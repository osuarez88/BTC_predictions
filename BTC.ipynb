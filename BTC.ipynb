{
 "cells": [
  {
   "cell_type": "code",
   "execution_count": 1,
   "metadata": {
    "ExecuteTime": {
     "end_time": "2021-12-16T01:42:21.620863Z",
     "start_time": "2021-12-16T01:42:19.962802Z"
    }
   },
   "outputs": [
    {
     "name": "stdout",
     "output_type": "stream",
     "text": [
      "Requirement already satisfied: pandas_datareader in /Users/oscarsuarez/opt/anaconda3/lib/python3.8/site-packages (0.10.0)\r\n",
      "Requirement already satisfied: lxml in /Users/oscarsuarez/opt/anaconda3/lib/python3.8/site-packages (from pandas_datareader) (4.6.2)\r\n",
      "Requirement already satisfied: requests>=2.19.0 in /Users/oscarsuarez/opt/anaconda3/lib/python3.8/site-packages (from pandas_datareader) (2.25.1)\r\n",
      "Requirement already satisfied: pandas>=0.23 in /Users/oscarsuarez/opt/anaconda3/lib/python3.8/site-packages (from pandas_datareader) (1.1.5)\r\n",
      "Requirement already satisfied: python-dateutil>=2.7.3 in /Users/oscarsuarez/opt/anaconda3/lib/python3.8/site-packages (from pandas>=0.23->pandas_datareader) (2.8.1)\r\n",
      "Requirement already satisfied: pytz>=2017.2 in /Users/oscarsuarez/opt/anaconda3/lib/python3.8/site-packages (from pandas>=0.23->pandas_datareader) (2020.5)\r\n",
      "Requirement already satisfied: numpy>=1.15.4 in /Users/oscarsuarez/opt/anaconda3/lib/python3.8/site-packages (from pandas>=0.23->pandas_datareader) (1.19.2)\r\n",
      "Requirement already satisfied: six>=1.5 in /Users/oscarsuarez/opt/anaconda3/lib/python3.8/site-packages (from python-dateutil>=2.7.3->pandas>=0.23->pandas_datareader) (1.15.0)\r\n",
      "Requirement already satisfied: urllib3<1.27,>=1.21.1 in /Users/oscarsuarez/opt/anaconda3/lib/python3.8/site-packages (from requests>=2.19.0->pandas_datareader) (1.26.2)\r\n",
      "Requirement already satisfied: idna<3,>=2.5 in /Users/oscarsuarez/opt/anaconda3/lib/python3.8/site-packages (from requests>=2.19.0->pandas_datareader) (2.10)\r\n",
      "Requirement already satisfied: certifi>=2017.4.17 in /Users/oscarsuarez/opt/anaconda3/lib/python3.8/site-packages (from requests>=2.19.0->pandas_datareader) (2020.12.5)\r\n",
      "Requirement already satisfied: chardet<5,>=3.0.2 in /Users/oscarsuarez/opt/anaconda3/lib/python3.8/site-packages (from requests>=2.19.0->pandas_datareader) (4.0.0)\r\n"
     ]
    }
   ],
   "source": [
    "!pip install pandas_datareader"
   ]
  },
  {
   "cell_type": "code",
   "execution_count": 2,
   "metadata": {
    "ExecuteTime": {
     "end_time": "2021-12-16T01:42:25.623185Z",
     "start_time": "2021-12-16T01:42:21.624639Z"
    }
   },
   "outputs": [],
   "source": [
    "import math\n",
    "import pandas as pd\n",
    "import pandas_datareader as web\n",
    "import numpy as np\n",
    "from sklearn.preprocessing import MinMaxScaler\n",
    "import tensorflow as tf\n",
    "from tensorflow import keras\n",
    "from tensorflow.keras import layers\n",
    "import matplotlib.pyplot as plt\n"
   ]
  },
  {
   "cell_type": "code",
   "execution_count": 3,
   "metadata": {
    "ExecuteTime": {
     "end_time": "2021-12-16T01:42:25.645663Z",
     "start_time": "2021-12-16T01:42:25.625066Z"
    }
   },
   "outputs": [
    {
     "data": {
      "text/html": [
       "<div>\n",
       "<style scoped>\n",
       "    .dataframe tbody tr th:only-of-type {\n",
       "        vertical-align: middle;\n",
       "    }\n",
       "\n",
       "    .dataframe tbody tr th {\n",
       "        vertical-align: top;\n",
       "    }\n",
       "\n",
       "    .dataframe thead th {\n",
       "        text-align: right;\n",
       "    }\n",
       "</style>\n",
       "<table border=\"1\" class=\"dataframe\">\n",
       "  <thead>\n",
       "    <tr style=\"text-align: right;\">\n",
       "      <th></th>\n",
       "      <th>Date</th>\n",
       "      <th>Open</th>\n",
       "      <th>High</th>\n",
       "      <th>Low</th>\n",
       "      <th>Close</th>\n",
       "      <th>Adj Close</th>\n",
       "      <th>Volume</th>\n",
       "    </tr>\n",
       "  </thead>\n",
       "  <tbody>\n",
       "    <tr>\n",
       "      <th>0</th>\n",
       "      <td>2014-09-17</td>\n",
       "      <td>465.864014</td>\n",
       "      <td>468.174011</td>\n",
       "      <td>452.421997</td>\n",
       "      <td>457.334015</td>\n",
       "      <td>457.334015</td>\n",
       "      <td>21056800.0</td>\n",
       "    </tr>\n",
       "    <tr>\n",
       "      <th>1</th>\n",
       "      <td>2014-09-18</td>\n",
       "      <td>456.859985</td>\n",
       "      <td>456.859985</td>\n",
       "      <td>413.104004</td>\n",
       "      <td>424.440002</td>\n",
       "      <td>424.440002</td>\n",
       "      <td>34483200.0</td>\n",
       "    </tr>\n",
       "    <tr>\n",
       "      <th>2</th>\n",
       "      <td>2014-09-19</td>\n",
       "      <td>424.102997</td>\n",
       "      <td>427.834991</td>\n",
       "      <td>384.532013</td>\n",
       "      <td>394.795990</td>\n",
       "      <td>394.795990</td>\n",
       "      <td>37919700.0</td>\n",
       "    </tr>\n",
       "    <tr>\n",
       "      <th>3</th>\n",
       "      <td>2014-09-20</td>\n",
       "      <td>394.673004</td>\n",
       "      <td>423.295990</td>\n",
       "      <td>389.882996</td>\n",
       "      <td>408.903992</td>\n",
       "      <td>408.903992</td>\n",
       "      <td>36863600.0</td>\n",
       "    </tr>\n",
       "    <tr>\n",
       "      <th>4</th>\n",
       "      <td>2014-09-21</td>\n",
       "      <td>408.084991</td>\n",
       "      <td>412.425995</td>\n",
       "      <td>393.181000</td>\n",
       "      <td>398.821014</td>\n",
       "      <td>398.821014</td>\n",
       "      <td>26580100.0</td>\n",
       "    </tr>\n",
       "  </tbody>\n",
       "</table>\n",
       "</div>"
      ],
      "text/plain": [
       "         Date        Open        High         Low       Close   Adj Close  \\\n",
       "0  2014-09-17  465.864014  468.174011  452.421997  457.334015  457.334015   \n",
       "1  2014-09-18  456.859985  456.859985  413.104004  424.440002  424.440002   \n",
       "2  2014-09-19  424.102997  427.834991  384.532013  394.795990  394.795990   \n",
       "3  2014-09-20  394.673004  423.295990  389.882996  408.903992  408.903992   \n",
       "4  2014-09-21  408.084991  412.425995  393.181000  398.821014  398.821014   \n",
       "\n",
       "       Volume  \n",
       "0  21056800.0  \n",
       "1  34483200.0  \n",
       "2  37919700.0  \n",
       "3  36863600.0  \n",
       "4  26580100.0  "
      ]
     },
     "execution_count": 3,
     "metadata": {},
     "output_type": "execute_result"
    }
   ],
   "source": [
    "df = pd.read_csv(\"BTC-USD.csv\")\n",
    "df.head()"
   ]
  },
  {
   "cell_type": "code",
   "execution_count": 4,
   "metadata": {
    "ExecuteTime": {
     "end_time": "2021-12-16T01:42:25.669356Z",
     "start_time": "2021-12-16T01:42:25.647145Z"
    }
   },
   "outputs": [
    {
     "data": {
      "text/html": [
       "<div>\n",
       "<style scoped>\n",
       "    .dataframe tbody tr th:only-of-type {\n",
       "        vertical-align: middle;\n",
       "    }\n",
       "\n",
       "    .dataframe tbody tr th {\n",
       "        vertical-align: top;\n",
       "    }\n",
       "\n",
       "    .dataframe thead th {\n",
       "        text-align: right;\n",
       "    }\n",
       "</style>\n",
       "<table border=\"1\" class=\"dataframe\">\n",
       "  <thead>\n",
       "    <tr style=\"text-align: right;\">\n",
       "      <th></th>\n",
       "      <th>Open</th>\n",
       "      <th>High</th>\n",
       "      <th>Low</th>\n",
       "      <th>Close</th>\n",
       "      <th>Adj Close</th>\n",
       "      <th>Volume</th>\n",
       "    </tr>\n",
       "  </thead>\n",
       "  <tbody>\n",
       "    <tr>\n",
       "      <th>count</th>\n",
       "      <td>2643.000000</td>\n",
       "      <td>2.643000e+03</td>\n",
       "      <td>2643.000000</td>\n",
       "      <td>2643.000000</td>\n",
       "      <td>2643.000000</td>\n",
       "      <td>2.643000e+03</td>\n",
       "    </tr>\n",
       "    <tr>\n",
       "      <th>mean</th>\n",
       "      <td>10517.133023</td>\n",
       "      <td>1.290875e+04</td>\n",
       "      <td>10198.737320</td>\n",
       "      <td>10532.285425</td>\n",
       "      <td>10532.285425</td>\n",
       "      <td>1.421616e+10</td>\n",
       "    </tr>\n",
       "    <tr>\n",
       "      <th>std</th>\n",
       "      <td>15487.825052</td>\n",
       "      <td>1.099530e+05</td>\n",
       "      <td>14992.172821</td>\n",
       "      <td>15497.434904</td>\n",
       "      <td>15497.434904</td>\n",
       "      <td>1.994710e+10</td>\n",
       "    </tr>\n",
       "    <tr>\n",
       "      <th>min</th>\n",
       "      <td>176.897003</td>\n",
       "      <td>2.117310e+02</td>\n",
       "      <td>171.509995</td>\n",
       "      <td>178.102997</td>\n",
       "      <td>178.102997</td>\n",
       "      <td>5.914570e+06</td>\n",
       "    </tr>\n",
       "    <tr>\n",
       "      <th>25%</th>\n",
       "      <td>587.709503</td>\n",
       "      <td>5.952535e+02</td>\n",
       "      <td>582.722473</td>\n",
       "      <td>588.460510</td>\n",
       "      <td>588.460510</td>\n",
       "      <td>7.626140e+07</td>\n",
       "    </tr>\n",
       "    <tr>\n",
       "      <th>50%</th>\n",
       "      <td>5938.250000</td>\n",
       "      <td>6.194880e+03</td>\n",
       "      <td>5785.004395</td>\n",
       "      <td>5982.457520</td>\n",
       "      <td>5982.457520</td>\n",
       "      <td>4.847965e+09</td>\n",
       "    </tr>\n",
       "    <tr>\n",
       "      <th>75%</th>\n",
       "      <td>10130.225586</td>\n",
       "      <td>1.031331e+04</td>\n",
       "      <td>9752.528809</td>\n",
       "      <td>10134.783203</td>\n",
       "      <td>10134.783203</td>\n",
       "      <td>2.347802e+10</td>\n",
       "    </tr>\n",
       "    <tr>\n",
       "      <th>max</th>\n",
       "      <td>67549.734375</td>\n",
       "      <td>5.604063e+06</td>\n",
       "      <td>66382.062500</td>\n",
       "      <td>67566.828125</td>\n",
       "      <td>67566.828125</td>\n",
       "      <td>3.509679e+11</td>\n",
       "    </tr>\n",
       "  </tbody>\n",
       "</table>\n",
       "</div>"
      ],
      "text/plain": [
       "               Open          High           Low         Close     Adj Close  \\\n",
       "count   2643.000000  2.643000e+03   2643.000000   2643.000000   2643.000000   \n",
       "mean   10517.133023  1.290875e+04  10198.737320  10532.285425  10532.285425   \n",
       "std    15487.825052  1.099530e+05  14992.172821  15497.434904  15497.434904   \n",
       "min      176.897003  2.117310e+02    171.509995    178.102997    178.102997   \n",
       "25%      587.709503  5.952535e+02    582.722473    588.460510    588.460510   \n",
       "50%     5938.250000  6.194880e+03   5785.004395   5982.457520   5982.457520   \n",
       "75%    10130.225586  1.031331e+04   9752.528809  10134.783203  10134.783203   \n",
       "max    67549.734375  5.604063e+06  66382.062500  67566.828125  67566.828125   \n",
       "\n",
       "             Volume  \n",
       "count  2.643000e+03  \n",
       "mean   1.421616e+10  \n",
       "std    1.994710e+10  \n",
       "min    5.914570e+06  \n",
       "25%    7.626140e+07  \n",
       "50%    4.847965e+09  \n",
       "75%    2.347802e+10  \n",
       "max    3.509679e+11  "
      ]
     },
     "execution_count": 4,
     "metadata": {},
     "output_type": "execute_result"
    }
   ],
   "source": [
    "df.describe()"
   ]
  },
  {
   "cell_type": "code",
   "execution_count": 5,
   "metadata": {
    "ExecuteTime": {
     "end_time": "2021-12-16T01:42:25.677720Z",
     "start_time": "2021-12-16T01:42:25.670865Z"
    }
   },
   "outputs": [
    {
     "name": "stdout",
     "output_type": "stream",
     "text": [
      "<class 'pandas.core.frame.DataFrame'>\n",
      "RangeIndex: 2647 entries, 0 to 2646\n",
      "Data columns (total 7 columns):\n",
      " #   Column     Non-Null Count  Dtype  \n",
      "---  ------     --------------  -----  \n",
      " 0   Date       2647 non-null   object \n",
      " 1   Open       2643 non-null   float64\n",
      " 2   High       2643 non-null   float64\n",
      " 3   Low        2643 non-null   float64\n",
      " 4   Close      2643 non-null   float64\n",
      " 5   Adj Close  2643 non-null   float64\n",
      " 6   Volume     2643 non-null   float64\n",
      "dtypes: float64(6), object(1)\n",
      "memory usage: 144.9+ KB\n"
     ]
    }
   ],
   "source": [
    "# see data types, number of rows,d and null information\n",
    "\n",
    "df.info()"
   ]
  },
  {
   "cell_type": "code",
   "execution_count": 6,
   "metadata": {
    "ExecuteTime": {
     "end_time": "2021-12-16T01:42:25.682574Z",
     "start_time": "2021-12-16T01:42:25.679570Z"
    }
   },
   "outputs": [
    {
     "data": {
      "text/plain": [
       "(2647, 7)"
      ]
     },
     "execution_count": 6,
     "metadata": {},
     "output_type": "execute_result"
    }
   ],
   "source": [
    "# define the shape of the dataframe\n",
    "\n",
    "df.shape"
   ]
  },
  {
   "cell_type": "code",
   "execution_count": 7,
   "metadata": {
    "ExecuteTime": {
     "end_time": "2021-12-16T01:42:25.690772Z",
     "start_time": "2021-12-16T01:42:25.686173Z"
    }
   },
   "outputs": [
    {
     "data": {
      "text/plain": [
       "Date         0\n",
       "Open         4\n",
       "High         4\n",
       "Low          4\n",
       "Close        4\n",
       "Adj Close    4\n",
       "Volume       4\n",
       "dtype: int64"
      ]
     },
     "execution_count": 7,
     "metadata": {},
     "output_type": "execute_result"
    }
   ],
   "source": [
    "# find out exactly how many nulls there are\n",
    "\n",
    "df.isna().sum()"
   ]
  },
  {
   "cell_type": "code",
   "execution_count": 8,
   "metadata": {
    "ExecuteTime": {
     "end_time": "2021-12-16T01:42:25.704092Z",
     "start_time": "2021-12-16T01:42:25.693843Z"
    }
   },
   "outputs": [
    {
     "name": "stdout",
     "output_type": "stream",
     "text": [
      "<class 'pandas.core.frame.DataFrame'>\n",
      "Int64Index: 2643 entries, 0 to 2646\n",
      "Data columns (total 7 columns):\n",
      " #   Column     Non-Null Count  Dtype  \n",
      "---  ------     --------------  -----  \n",
      " 0   Date       2643 non-null   object \n",
      " 1   Open       2643 non-null   float64\n",
      " 2   High       2643 non-null   float64\n",
      " 3   Low        2643 non-null   float64\n",
      " 4   Close      2643 non-null   float64\n",
      " 5   Adj Close  2643 non-null   float64\n",
      " 6   Volume     2643 non-null   float64\n",
      "dtypes: float64(6), object(1)\n",
      "memory usage: 165.2+ KB\n"
     ]
    }
   ],
   "source": [
    "# drop nulls (if any)\n",
    "df = df.dropna()\n",
    "df.info()"
   ]
  },
  {
   "cell_type": "code",
   "execution_count": 9,
   "metadata": {
    "ExecuteTime": {
     "end_time": "2021-12-16T01:42:25.869136Z",
     "start_time": "2021-12-16T01:42:25.705959Z"
    }
   },
   "outputs": [
    {
     "data": {
      "image/png": "[encoded data removed]",
      "text/plain": [
       "<Figure size 1152x576 with 1 Axes>"
      ]
     },
     "metadata": {
      "needs_background": "light"
     },
     "output_type": "display_data"
    }
   ],
   "source": [
    "# Visualize  the closing price history\n",
    "\n",
    "plt.figure(figsize=(16,8))\n",
    "plt.title(\"Close Price History\")\n",
    "plt.plot(df['Close'])\n",
    "plt.xlabel('Date', fontsize=18)\n",
    "plt.ylabel('CLose Price USD ($)', fontsize=18)\n",
    "plt.show()"
   ]
  },
  {
   "cell_type": "code",
   "execution_count": 10,
   "metadata": {
    "ExecuteTime": {
     "end_time": "2021-12-16T01:42:25.874476Z",
     "start_time": "2021-12-16T01:42:25.870733Z"
    }
   },
   "outputs": [
    {
     "data": {
      "text/plain": [
       "2115"
      ]
     },
     "execution_count": 10,
     "metadata": {},
     "output_type": "execute_result"
    }
   ],
   "source": [
    "# Create a new df with only the \"Close\" column\n",
    "\n",
    "data = df.filter(['Close'])\n",
    "\n",
    "# Convert the df to a np array\n",
    "\n",
    "dataset = data.values\n",
    "\n",
    "# Get the number of rows to train the model on\n",
    "\n",
    "training_data_len = math.ceil( len(dataset) * .8 )\n",
    "\n",
    "training_data_len"
   ]
  },
  {
   "cell_type": "code",
   "execution_count": 11,
   "metadata": {
    "ExecuteTime": {
     "end_time": "2021-12-16T01:42:25.879538Z",
     "start_time": "2021-12-16T01:42:25.875846Z"
    }
   },
   "outputs": [
    {
     "data": {
      "text/plain": [
       "array([[0.00414359],\n",
       "       [0.00365546],\n",
       "       [0.00321557],\n",
       "       ...,\n",
       "       [0.69090753],\n",
       "       [0.68905488],\n",
       "       [0.69445   ]])"
      ]
     },
     "execution_count": 11,
     "metadata": {},
     "output_type": "execute_result"
    }
   ],
   "source": [
    "# scale the data\n",
    "\n",
    "scaler = MinMaxScaler(feature_range=(0,1))\n",
    "\n",
    "scaled_data = scaler.fit_transform(dataset)\n",
    "\n",
    "scaled_data"
   ]
  },
  {
   "cell_type": "code",
   "execution_count": 12,
   "metadata": {
    "ExecuteTime": {
     "end_time": "2021-12-16T01:42:25.886133Z",
     "start_time": "2021-12-16T01:42:25.880904Z"
    }
   },
   "outputs": [
    {
     "name": "stdout",
     "output_type": "stream",
     "text": [
      "[array([0.00414359, 0.00365546, 0.00321557, 0.00342492, 0.0032753 ,\n",
      "       0.00332473, 0.0038239 , 0.00363714, 0.00346454, 0.00335845,\n",
      "       0.00328567, 0.00295417, 0.00292874, 0.00309905, 0.00304965,\n",
      "       0.00292288, 0.00269198, 0.00223721, 0.00211322, 0.00225521,\n",
      "       0.00234585, 0.00259445, 0.0027738 , 0.0027224 , 0.00273334,\n",
      "       0.00297447, 0.00315054, 0.0033057 , 0.00321523, 0.00303393,\n",
      "       0.00305177, 0.0031658 , 0.00313766, 0.00303822, 0.00309209,\n",
      "       0.00304287, 0.00267573, 0.00267466, 0.00251033, 0.00262063,\n",
      "       0.00259518, 0.00266387, 0.00233701, 0.00248116, 0.00237752,\n",
      "       0.00219096, 0.00219308, 0.00221774, 0.00226134, 0.00239481,\n",
      "       0.00254029, 0.00243827, 0.00248387, 0.00274766, 0.00280197,\n",
      "       0.00281341, 0.00364242, 0.00360048, 0.00326041, 0.00293862])]\n",
      "[0.003112968699163547]\n",
      "\n"
     ]
    }
   ],
   "source": [
    "# Create the training data set\n",
    "# Create the scaled training data set\n",
    "\n",
    "train_data = scaled_data[0:training_data_len, :]\n",
    "\n",
    "# Split the data into x_train and y_train data sets\n",
    "x_train = []\n",
    "y_train = []\n",
    "\n",
    "for i in range(60, len(train_data)):\n",
    "    x_train.append(train_data[i-60:i, 0])\n",
    "    y_train.append(train_data[i, 0])\n",
    "    if i <= 60:\n",
    "        print(x_train)\n",
    "        print(y_train)\n",
    "        print()"
   ]
  },
  {
   "cell_type": "code",
   "execution_count": 13,
   "metadata": {
    "ExecuteTime": {
     "end_time": "2021-12-16T01:42:25.891318Z",
     "start_time": "2021-12-16T01:42:25.887554Z"
    }
   },
   "outputs": [],
   "source": [
    "\n",
    "# Convert the x_train and y_train to np arrays\n",
    "\n",
    "x_train, y_train = np.array(x_train), np.array(y_train)"
   ]
  },
  {
   "cell_type": "code",
   "execution_count": 14,
   "metadata": {
    "ExecuteTime": {
     "end_time": "2021-12-16T01:42:25.895815Z",
     "start_time": "2021-12-16T01:42:25.892608Z"
    }
   },
   "outputs": [
    {
     "data": {
      "text/plain": [
       "(2055, 60, 1)"
      ]
     },
     "execution_count": 14,
     "metadata": {},
     "output_type": "execute_result"
    }
   ],
   "source": [
    "# Reshape the data\n",
    "x_train = np.reshape(x_train, (x_train.shape[0], x_train.shape[1], 1))\n",
    "x_train.shape"
   ]
  },
  {
   "cell_type": "code",
   "execution_count": 15,
   "metadata": {
    "ExecuteTime": {
     "end_time": "2021-12-16T01:42:26.227221Z",
     "start_time": "2021-12-16T01:42:25.897498Z"
    }
   },
   "outputs": [],
   "source": [
    "# build LSTM model\n",
    "\n",
    "model = keras.Sequential()\n",
    "\n",
    "model.add(layers.LSTM(50, return_sequences=True, input_shape=(x_train.shape[1], 1)))\n",
    "model.add(layers.LSTM(50, return_sequences=False))\n",
    "model.add(layers.Dense(25))\n",
    "model.add(layers.Dense(1))"
   ]
  },
  {
   "cell_type": "code",
   "execution_count": 16,
   "metadata": {
    "ExecuteTime": {
     "end_time": "2021-12-16T01:42:26.237277Z",
     "start_time": "2021-12-16T01:42:26.229016Z"
    }
   },
   "outputs": [],
   "source": [
    "# Compile the model\n",
    "\n",
    "model.compile(optimizer='adam', loss='mean_squared_error')"
   ]
  },
  {
   "cell_type": "code",
   "execution_count": 17,
   "metadata": {
    "ExecuteTime": {
     "end_time": "2021-12-16T01:43:48.202955Z",
     "start_time": "2021-12-16T01:42:26.238580Z"
    }
   },
   "outputs": [
    {
     "name": "stdout",
     "output_type": "stream",
     "text": [
      "Epoch 1/3\n",
      "2055/2055 [==============================] - 29s 13ms/step - loss: 4.2812e-04\n",
      "Epoch 2/3\n",
      "2055/2055 [==============================] - 27s 13ms/step - loss: 1.0479e-04\n",
      "Epoch 3/3\n",
      "2055/2055 [==============================] - 27s 13ms/step - loss: 7.3790e-05\n"
     ]
    },
    {
     "data": {
      "text/plain": [
       "<tensorflow.python.keras.callbacks.History at 0x7fa1557326d0>"
      ]
     },
     "execution_count": 17,
     "metadata": {},
     "output_type": "execute_result"
    }
   ],
   "source": [
    "# Train the model\n",
    "\n",
    "model.fit(x_train, y_train, batch_size=1, epochs=3)"
   ]
  },
  {
   "cell_type": "code",
   "execution_count": 18,
   "metadata": {
    "ExecuteTime": {
     "end_time": "2021-12-16T01:43:48.207028Z",
     "start_time": "2021-12-16T01:43:48.204230Z"
    }
   },
   "outputs": [],
   "source": [
    "# Create testing data set\n",
    "\n",
    "# Create a new array containing scaled values\n",
    "test_data = scaled_data[training_data_len - 60: , :]\n",
    "\n",
    "# Create the data sets x_test and y_test\n",
    "\n",
    "x_test = []\n",
    "y_test = dataset[training_data_len: ,  :]\n",
    "\n",
    "for i in range(60, len(test_data)):\n",
    "    x_test.append(test_data[i-60:i, 0])"
   ]
  },
  {
   "cell_type": "code",
   "execution_count": 19,
   "metadata": {
    "ExecuteTime": {
     "end_time": "2021-12-16T01:43:48.211487Z",
     "start_time": "2021-12-16T01:43:48.208727Z"
    }
   },
   "outputs": [],
   "source": [
    "# convert the data into a np array\n",
    "\n",
    "x_test = np.array(x_test)"
   ]
  },
  {
   "cell_type": "code",
   "execution_count": 20,
   "metadata": {
    "ExecuteTime": {
     "end_time": "2021-12-16T01:43:48.214781Z",
     "start_time": "2021-12-16T01:43:48.212749Z"
    }
   },
   "outputs": [],
   "source": [
    "# Reshape the data\n",
    "\n",
    "x_test = np.reshape(x_test, (x_test.shape[0], x_test.shape[1], 1))"
   ]
  },
  {
   "cell_type": "code",
   "execution_count": 21,
   "metadata": {
    "ExecuteTime": {
     "end_time": "2021-12-16T01:43:48.870319Z",
     "start_time": "2021-12-16T01:43:48.216008Z"
    }
   },
   "outputs": [],
   "source": [
    "# Get the models predicted price values\n",
    "\n",
    "predictions = model.predict(x_test)\n",
    "predictions = scaler.inverse_transform(predictions)"
   ]
  },
  {
   "cell_type": "code",
   "execution_count": 22,
   "metadata": {
    "ExecuteTime": {
     "end_time": "2021-12-16T01:43:48.886948Z",
     "start_time": "2021-12-16T01:43:48.876188Z"
    }
   },
   "outputs": [
    {
     "data": {
      "text/plain": [
       "array([[ 9356.073 ],\n",
       "       [ 9308.923 ],\n",
       "       [ 9312.333 ],\n",
       "       [ 9285.277 ],\n",
       "       [ 9445.421 ],\n",
       "       [ 9464.475 ],\n",
       "       [ 9558.602 ],\n",
       "       [ 9518.329 ],\n",
       "       [ 9484.612 ],\n",
       "       [ 9447.008 ],\n",
       "       [ 9451.4375],\n",
       "       [ 9439.851 ],\n",
       "       [ 9433.803 ],\n",
       "       [ 9403.168 ],\n",
       "       [ 9352.415 ],\n",
       "       [ 9339.718 ],\n",
       "       [ 9343.652 ],\n",
       "       [ 9363.616 ],\n",
       "       [ 9361.919 ],\n",
       "       [ 9481.046 ],\n",
       "       [ 9633.519 ],\n",
       "       [ 9734.957 ],\n",
       "       [ 9745.015 ],\n",
       "       [ 9817.754 ],\n",
       "       [ 9987.073 ],\n",
       "       [10705.774 ],\n",
       "       [11030.086 ],\n",
       "       [11229.843 ],\n",
       "       [11297.04  ],\n",
       "       [11428.156 ],\n",
       "       [11744.643 ],\n",
       "       [11481.457 ],\n",
       "       [11418.77  ],\n",
       "       [11390.54  ],\n",
       "       [11707.207 ],\n",
       "       [11904.508 ],\n",
       "       [11871.922 ],\n",
       "       [11921.1045],\n",
       "       [11902.543 ],\n",
       "       [12007.118 ],\n",
       "       [11788.635 ],\n",
       "       [11764.76  ],\n",
       "       [11895.1   ],\n",
       "       [11961.744 ],\n",
       "       [12042.002 ],\n",
       "       [12092.813 ],\n",
       "       [12324.241 ],\n",
       "       [12283.922 ],\n",
       "       [12096.745 ],\n",
       "       [12070.108 ],\n",
       "       [11907.653 ],\n",
       "       [11879.984 ],\n",
       "       [11876.018 ],\n",
       "       [11945.352 ],\n",
       "       [11742.98  ],\n",
       "       [11700.138 ],\n",
       "       [11602.161 ],\n",
       "       [11685.979 ],\n",
       "       [11721.999 ],\n",
       "       [11853.837 ],\n",
       "       [11900.897 ],\n",
       "       [12080.894 ],\n",
       "       [11839.136 ],\n",
       "       [10998.864 ],\n",
       "       [10731.813 ],\n",
       "       [10485.88  ],\n",
       "       [10460.472 ],\n",
       "       [10535.647 ],\n",
       "       [10445.341 ],\n",
       "       [10453.737 ],\n",
       "       [10536.957 ],\n",
       "       [10601.097 ],\n",
       "       [10647.582 ],\n",
       "       [10592.169 ],\n",
       "       [10762.797 ],\n",
       "       [10926.789 ],\n",
       "       [11099.106 ],\n",
       "       [11154.93  ],\n",
       "       [11159.144 ],\n",
       "       [11239.857 ],\n",
       "       [11189.18  ],\n",
       "       [10872.743 ],\n",
       "       [10753.404 ],\n",
       "       [10543.793 ],\n",
       "       [10754.682 ],\n",
       "       [10871.7   ],\n",
       "       [10945.442 ],\n",
       "       [10982.364 ],\n",
       "       [10959.934 ],\n",
       "       [11016.022 ],\n",
       "       [11010.984 ],\n",
       "       [10904.662 ],\n",
       "       [10824.849 ],\n",
       "       [10782.524 ],\n",
       "       [10840.28  ],\n",
       "       [10948.389 ],\n",
       "       [10894.114 ],\n",
       "       [10885.909 ],\n",
       "       [11029.875 ],\n",
       "       [11327.672 ],\n",
       "       [11522.938 ],\n",
       "       [11618.126 ],\n",
       "       [11680.941 ],\n",
       "       [11597.043 ],\n",
       "       [11563.862 ],\n",
       "       [11628.961 ],\n",
       "       [11822.356 ],\n",
       "       [12023.721 ],\n",
       "       [12648.92  ],\n",
       "       [13042.081 ],\n",
       "       [13154.977 ],\n",
       "       [13266.33  ],\n",
       "       [13258.202 ],\n",
       "       [13264.269 ],\n",
       "       [13614.406 ],\n",
       "       [13570.2705],\n",
       "       [13610.169 ],\n",
       "       [13700.09  ],\n",
       "       [13885.002 ],\n",
       "       [13946.98  ],\n",
       "       [13847.285 ],\n",
       "       [14027.561 ],\n",
       "       [14243.275 ],\n",
       "       [15211.367 ],\n",
       "       [15681.709 ],\n",
       "       [15367.123 ],\n",
       "       [15530.723 ],\n",
       "       [15549.551 ],\n",
       "       [15516.718 ],\n",
       "       [15748.423 ],\n",
       "       [16224.308 ],\n",
       "       [16471.162 ],\n",
       "       [16391.316 ],\n",
       "       [16249.331 ],\n",
       "       [16646.547 ],\n",
       "       [17436.283 ],\n",
       "       [17894.447 ],\n",
       "       [18042.697 ],\n",
       "       [18552.492 ],\n",
       "       [18793.777 ],\n",
       "       [18683.203 ],\n",
       "       [18590.967 ],\n",
       "       [19015.229 ],\n",
       "       [19005.785 ],\n",
       "       [17980.432 ],\n",
       "       [17447.088 ],\n",
       "       [17670.334 ],\n",
       "       [18142.746 ],\n",
       "       [19271.316 ],\n",
       "       [19274.791 ],\n",
       "       [19392.898 ],\n",
       "       [19582.602 ],\n",
       "       [19187.87  ],\n",
       "       [19249.453 ],\n",
       "       [19438.486 ],\n",
       "       [19434.988 ],\n",
       "       [18874.59  ],\n",
       "       [18743.432 ],\n",
       "       [18561.998 ],\n",
       "       [18368.31  ],\n",
       "       [18760.676 ],\n",
       "       [19193.875 ],\n",
       "       [19435.35  ],\n",
       "       [19608.674 ],\n",
       "       [20844.129 ],\n",
       "       [22369.748 ],\n",
       "       [23179.52  ],\n",
       "       [23844.46  ],\n",
       "       [23785.861 ],\n",
       "       [23227.084 ],\n",
       "       [23577.447 ],\n",
       "       [23455.016 ],\n",
       "       [23689.91  ],\n",
       "       [24418.027 ],\n",
       "       [25890.426 ],\n",
       "       [26396.363 ],\n",
       "       [26990.658 ],\n",
       "       [27363.154 ],\n",
       "       [28418.408 ],\n",
       "       [28945.967 ],\n",
       "       [29303.713 ],\n",
       "       [31217.674 ],\n",
       "       [32452.453 ],\n",
       "       [32229.146 ],\n",
       "       [33325.5   ],\n",
       "       [35710.207 ],\n",
       "       [38346.38  ],\n",
       "       [40151.73  ],\n",
       "       [40164.37  ],\n",
       "       [38581.105 ],\n",
       "       [35964.332 ],\n",
       "       [33934.97  ],\n",
       "       [35713.496 ],\n",
       "       [38032.223 ],\n",
       "       [37256.9   ],\n",
       "       [36269.945 ],\n",
       "       [35644.742 ],\n",
       "       [36054.74  ],\n",
       "       [35921.082 ],\n",
       "       [35487.812 ],\n",
       "       [32132.709 ],\n",
       "       [32246.559 ],\n",
       "       [32022.078 ],\n",
       "       [32128.504 ],\n",
       "       [32282.436 ],\n",
       "       [32490.025 ],\n",
       "       [31132.326 ],\n",
       "       [31331.104 ],\n",
       "       [33340.215 ],\n",
       "       [34171.12  ],\n",
       "       [33530.05  ],\n",
       "       [33415.86  ],\n",
       "       [34732.85  ],\n",
       "       [36634.4   ],\n",
       "       [36912.48  ],\n",
       "       [37636.508 ],\n",
       "       [38628.883 ],\n",
       "       [38672.02  ],\n",
       "       [43659.477 ],\n",
       "       [45809.223 ],\n",
       "       [44959.465 ],\n",
       "       [46429.887 ],\n",
       "       [46675.824 ],\n",
       "       [46291.65  ],\n",
       "       [47242.188 ],\n",
       "       [47062.01  ],\n",
       "       [47804.67  ],\n",
       "       [50214.074 ],\n",
       "       [50665.24  ],\n",
       "       [53621.355 ],\n",
       "       [54698.855 ],\n",
       "       [55761.137 ],\n",
       "       [53469.85  ],\n",
       "       [48621.312 ],\n",
       "       [47775.027 ],\n",
       "       [46129.473 ],\n",
       "       [45221.9   ],\n",
       "       [45057.43  ],\n",
       "       [44437.105 ],\n",
       "       [47497.242 ],\n",
       "       [47832.836 ],\n",
       "       [49208.06  ],\n",
       "       [48182.25  ],\n",
       "       [47879.047 ],\n",
       "       [47804.88  ],\n",
       "       [49449.043 ],\n",
       "       [50803.926 ],\n",
       "       [52990.03  ],\n",
       "       [54439.516 ],\n",
       "       [55966.047 ],\n",
       "       [55892.984 ],\n",
       "       [58511.656 ],\n",
       "       [57862.504 ],\n",
       "       [54839.855 ],\n",
       "       [54508.707 ],\n",
       "       [56209.297 ],\n",
       "       [56128.83  ],\n",
       "       [56340.355 ],\n",
       "       [56388.457 ],\n",
       "       [55795.598 ],\n",
       "       [53395.023 ],\n",
       "       [52810.22  ],\n",
       "       [51443.78  ],\n",
       "       [50327.438 ],\n",
       "       [52632.48  ],\n",
       "       [54219.984 ],\n",
       "       [54557.934 ],\n",
       "       [55799.074 ],\n",
       "       [56975.855 ],\n",
       "       [57183.367 ],\n",
       "       [57198.79  ],\n",
       "       [57333.867 ],\n",
       "       [56026.023 ],\n",
       "       [56419.387 ],\n",
       "       [56897.754 ],\n",
       "       [56404.28  ],\n",
       "       [54631.484 ],\n",
       "       [55767.27  ],\n",
       "       [56279.77  ],\n",
       "       [57519.832 ],\n",
       "       [58178.32  ],\n",
       "       [58014.57  ],\n",
       "       [60529.87  ],\n",
       "       [61013.496 ],\n",
       "       [61029.637 ],\n",
       "       [59619.324 ],\n",
       "       [58465.86  ],\n",
       "       [54932.008 ],\n",
       "       [53577.527 ],\n",
       "       [54087.582 ],\n",
       "       [52635.12  ],\n",
       "       [50638.03  ],\n",
       "       [49664.816 ],\n",
       "       [48829.605 ],\n",
       "       [47953.055 ],\n",
       "       [51411.637 ],\n",
       "       [53517.39  ],\n",
       "       [53763.67  ],\n",
       "       [52628.98  ],\n",
       "       [55186.957 ],\n",
       "       [56165.305 ],\n",
       "       [55327.703 ],\n",
       "       [55304.52  ],\n",
       "       [52498.188 ],\n",
       "       [54541.08  ],\n",
       "       [54772.94  ],\n",
       "       [55410.363 ],\n",
       "       [56662.73  ],\n",
       "       [56576.426 ],\n",
       "       [54650.402 ],\n",
       "       [54603.04  ],\n",
       "       [49272.81  ],\n",
       "       [47915.945 ],\n",
       "       [48128.406 ],\n",
       "       [46241.29  ],\n",
       "       [45437.285 ],\n",
       "       [43321.652 ],\n",
       "       [42239.75  ],\n",
       "       [37979.418 ],\n",
       "       [39121.133 ],\n",
       "       [37650.71  ],\n",
       "       [37212.46  ],\n",
       "       [35321.406 ],\n",
       "       [37319.2   ],\n",
       "       [38144.61  ],\n",
       "       [38920.82  ],\n",
       "       [38523.13  ],\n",
       "       [36352.926 ],\n",
       "       [34737.484 ],\n",
       "       [35004.047 ],\n",
       "       [36446.402 ],\n",
       "       [36621.777 ],\n",
       "       [37172.617 ],\n",
       "       [38484.633 ],\n",
       "       [37341.74  ],\n",
       "       [35797.395 ],\n",
       "       [35461.418 ],\n",
       "       [33920.684 ],\n",
       "       [33291.633 ],\n",
       "       [35846.742 ],\n",
       "       [36591.75  ],\n",
       "       [37094.965 ],\n",
       "       [35965.46  ],\n",
       "       [37842.766 ],\n",
       "       [39477.906 ],\n",
       "       [40072.53  ],\n",
       "       [38671.695 ],\n",
       "       [37799.234 ],\n",
       "       [36003.42  ],\n",
       "       [35264.64  ],\n",
       "       [35235.715 ],\n",
       "       [32631.45  ],\n",
       "       [32153.99  ],\n",
       "       [33063.863 ],\n",
       "       [34195.125 ],\n",
       "       [32573.584 ],\n",
       "       [32132.729 ],\n",
       "       [33743.492 ],\n",
       "       [34342.312 ],\n",
       "       [35409.027 ],\n",
       "       [35201.58  ],\n",
       "       [33973.234 ],\n",
       "       [33664.54  ],\n",
       "       [34171.273 ],\n",
       "       [34856.008 ],\n",
       "       [34061.3   ],\n",
       "       [33988.863 ],\n",
       "       [33772.68  ],\n",
       "       [33036.74  ],\n",
       "       [33376.79  ],\n",
       "       [33419.254 ],\n",
       "       [33905.59  ],\n",
       "       [33376.492 ],\n",
       "       [32794.38  ],\n",
       "       [32673.314 ],\n",
       "       [31986.24  ],\n",
       "       [31477.367 ],\n",
       "       [31414.105 ],\n",
       "       [31632.82  ],\n",
       "       [31096.3   ],\n",
       "       [30176.549 ],\n",
       "       [31364.543 ],\n",
       "       [32123.447 ],\n",
       "       [33196.918 ],\n",
       "       [34044.28  ],\n",
       "       [34983.023 ],\n",
       "       [36610.85  ],\n",
       "       [38580.32  ],\n",
       "       [39585.29  ],\n",
       "       [39736.676 ],\n",
       "       [41180.12  ],\n",
       "       [41259.113 ],\n",
       "       [39960.285 ],\n",
       "       [38876.164 ],\n",
       "       [37848.406 ],\n",
       "       [38683.78  ],\n",
       "       [39952.207 ],\n",
       "       [41781.664 ],\n",
       "       [43604.992 ],\n",
       "       [43556.848 ],\n",
       "       [45108.55  ],\n",
       "       [45077.086 ],\n",
       "       [44869.26  ],\n",
       "       [43921.5   ],\n",
       "       [45958.477 ],\n",
       "       [46323.957 ],\n",
       "       [46232.96  ],\n",
       "       [45393.836 ],\n",
       "       [44143.86  ],\n",
       "       [43836.27  ],\n",
       "       [45230.406 ],\n",
       "       [47701.777 ],\n",
       "       [48188.215 ],\n",
       "       [48386.438 ],\n",
       "       [48501.332 ],\n",
       "       [47149.48  ],\n",
       "       [47519.723 ],\n",
       "       [46335.44  ],\n",
       "       [47406.715 ],\n",
       "       [47821.49  ],\n",
       "       [47840.137 ],\n",
       "       [46529.08  ],\n",
       "       [46119.598 ],\n",
       "       [47301.508 ],\n",
       "       [48147.285 ],\n",
       "       [48856.395 ],\n",
       "       [48950.848 ],\n",
       "       [50186.305 ],\n",
       "       [51219.91  ],\n",
       "       [47231.613 ],\n",
       "       [45168.98  ],\n",
       "       [45005.41  ],\n",
       "       [44153.57  ],\n",
       "       [44170.094 ],\n",
       "       [44932.777 ],\n",
       "       [44480.492 ],\n",
       "       [45765.754 ],\n",
       "       [47057.086 ],\n",
       "       [47113.418 ],\n",
       "       [46594.977 ],\n",
       "       [47071.92  ],\n",
       "       [46541.023 ],\n",
       "       [43157.51  ],\n",
       "       [40449.773 ],\n",
       "       [41794.72  ],\n",
       "       [43604.496 ],\n",
       "       [42810.344 ],\n",
       "       [42259.965 ],\n",
       "       [42447.355 ],\n",
       "       [41884.652 ],\n",
       "       [40812.63  ],\n",
       "       [40824.766 ],\n",
       "       [42511.75  ],\n",
       "       [46260.94  ],\n",
       "       [47232.562 ],\n",
       "       [47504.465 ],\n",
       "       [48048.73  ],\n",
       "       [49863.61  ],\n",
       "       [53204.445 ],\n",
       "       [53013.016 ],\n",
       "       [52650.79  ],\n",
       "       [53173.723 ],\n",
       "       [53196.348 ],\n",
       "       [55125.906 ],\n",
       "       [54707.28  ],\n",
       "       [55362.082 ],\n",
       "       [55527.008 ],\n",
       "       [58654.395 ],\n",
       "       [59123.61  ],\n",
       "       [59419.848 ],\n",
       "       [59736.133 ],\n",
       "       [61409.633 ],\n",
       "       [63157.137 ],\n",
       "       [60673.613 ],\n",
       "       [58554.55  ],\n",
       "       [58601.188 ],\n",
       "       [58516.47  ],\n",
       "       [60124.543 ],\n",
       "       [58704.957 ],\n",
       "       [56728.75  ],\n",
       "       [57799.58  ],\n",
       "       [59557.754 ],\n",
       "       [59814.22  ],\n",
       "       [59296.637 ],\n",
       "       [58831.04  ],\n",
       "       [60352.176 ],\n",
       "       [60683.348 ],\n",
       "       [59508.062 ],\n",
       "       [58833.7   ],\n",
       "       [59014.227 ],\n",
       "       [60492.605 ],\n",
       "       [64136.004 ],\n",
       "       [64669.414 ],\n",
       "       [62931.438 ],\n",
       "       [62207.74  ],\n",
       "       [61495.918 ],\n",
       "       [61587.48  ],\n",
       "       [62461.11  ],\n",
       "       [61333.254 ],\n",
       "       [58398.785 ],\n",
       "       [57745.523 ],\n",
       "       [55336.547 ],\n",
       "       [55574.23  ],\n",
       "       [57131.95  ],\n",
       "       [56996.67  ],\n",
       "       [55039.72  ],\n",
       "       [55335.51  ],\n",
       "       [54675.477 ],\n",
       "       [55190.246 ],\n",
       "       [52732.387 ],\n",
       "       [52785.496 ],\n",
       "       [54838.76  ],\n",
       "       [55990.453 ],\n",
       "       [55597.047 ],\n",
       "       [55474.3   ],\n",
       "       [54868.336 ],\n",
       "       [52551.293 ],\n",
       "       [48648.074 ],\n",
       "       [47677.63  ],\n",
       "       [48668.258 ],\n",
       "       [49333.246 ],\n",
       "       [49421.082 ],\n",
       "       [47370.074 ],\n",
       "       [46312.523 ],\n",
       "       [47644.25  ],\n",
       "       [48801.727 ],\n",
       "       [46707.05  ],\n",
       "       [45733.137 ]], dtype=float32)"
      ]
     },
     "execution_count": 22,
     "metadata": {},
     "output_type": "execute_result"
    }
   ],
   "source": [
    "predictions"
   ]
  },
  {
   "cell_type": "code",
   "execution_count": 23,
   "metadata": {
    "ExecuteTime": {
     "end_time": "2021-12-16T01:43:48.904183Z",
     "start_time": "2021-12-16T01:43:48.900891Z"
    }
   },
   "outputs": [
    {
     "data": {
      "text/plain": [
       "736.6114502716615"
      ]
     },
     "execution_count": 23,
     "metadata": {},
     "output_type": "execute_result"
    }
   ],
   "source": [
    "# Get the root mean squared error (RMSE)\n",
    "\n",
    "rmse = np.sqrt(np.mean(predictions - y_test)**2)\n",
    "rmse"
   ]
  },
  {
   "cell_type": "code",
   "execution_count": 24,
   "metadata": {
    "ExecuteTime": {
     "end_time": "2021-12-16T01:43:49.081719Z",
     "start_time": "2021-12-16T01:43:48.905828Z"
    }
   },
   "outputs": [
    {
     "name": "stderr",
     "output_type": "stream",
     "text": [
      "<ipython-input-24-c74ed63cabc2>:5: SettingWithCopyWarning: \n",
      "A value is trying to be set on a copy of a slice from a DataFrame.\n",
      "Try using .loc[row_indexer,col_indexer] = value instead\n",
      "\n",
      "See the caveats in the documentation: https://pandas.pydata.org/pandas-docs/stable/user_guide/indexing.html#returning-a-view-versus-a-copy\n",
      "  valid['Predicitons'] = predictions\n"
     ]
    },
    {
     "data": {
      "text/plain": [
       "<function matplotlib.pyplot.show(close=None, block=None)>"
      ]
     },
     "execution_count": 24,
     "metadata": {},
     "output_type": "execute_result"
    },
    {
     "data": {
      "image/png": "[encoded data removed]",
      "text/plain": [
       "<Figure size 1152x576 with 1 Axes>"
      ]
     },
     "metadata": {
      "needs_background": "light"
     },
     "output_type": "display_data"
    }
   ],
   "source": [
    "# Plot the data\n",
    "\n",
    "train = data[:training_data_len]\n",
    "valid = data[training_data_len:]\n",
    "valid['Predicitons'] = predictions\n",
    "\n",
    "# Visualize the data\n",
    "\n",
    "plt.figure(figsize=(16,8))\n",
    "plt.title('Model')\n",
    "plt.xlabel('Date', fontsize=18)\n",
    "plt.ylabel('Close Price USD ($)', fontsize=18)\n",
    "plt.plot(train['Close'])\n",
    "plt.plot(valid[['Close', 'Predicitons']])\n",
    "plt.legend(['Train', 'Val', 'Predictions'], loc='lower right')\n",
    "plt.show"
   ]
  },
  {
   "cell_type": "code",
   "execution_count": 25,
   "metadata": {
    "ExecuteTime": {
     "end_time": "2021-12-16T01:43:49.089789Z",
     "start_time": "2021-12-16T01:43:49.082931Z"
    }
   },
   "outputs": [
    {
     "data": {
      "text/html": [
       "<div>\n",
       "<style scoped>\n",
       "    .dataframe tbody tr th:only-of-type {\n",
       "        vertical-align: middle;\n",
       "    }\n",
       "\n",
       "    .dataframe tbody tr th {\n",
       "        vertical-align: top;\n",
       "    }\n",
       "\n",
       "    .dataframe thead th {\n",
       "        text-align: right;\n",
       "    }\n",
       "</style>\n",
       "<table border=\"1\" class=\"dataframe\">\n",
       "  <thead>\n",
       "    <tr style=\"text-align: right;\">\n",
       "      <th></th>\n",
       "      <th>Close</th>\n",
       "      <th>Predicitons</th>\n",
       "    </tr>\n",
       "  </thead>\n",
       "  <tbody>\n",
       "    <tr>\n",
       "      <th>2116</th>\n",
       "      <td>9087.303711</td>\n",
       "      <td>9356.073242</td>\n",
       "    </tr>\n",
       "    <tr>\n",
       "      <th>2117</th>\n",
       "      <td>9132.488281</td>\n",
       "      <td>9308.922852</td>\n",
       "    </tr>\n",
       "    <tr>\n",
       "      <th>2118</th>\n",
       "      <td>9073.942383</td>\n",
       "      <td>9312.333008</td>\n",
       "    </tr>\n",
       "    <tr>\n",
       "      <th>2119</th>\n",
       "      <td>9375.474609</td>\n",
       "      <td>9285.277344</td>\n",
       "    </tr>\n",
       "    <tr>\n",
       "      <th>2120</th>\n",
       "      <td>9252.277344</td>\n",
       "      <td>9445.420898</td>\n",
       "    </tr>\n",
       "    <tr>\n",
       "      <th>...</th>\n",
       "      <td>...</td>\n",
       "      <td>...</td>\n",
       "    </tr>\n",
       "    <tr>\n",
       "      <th>2642</th>\n",
       "      <td>49362.507813</td>\n",
       "      <td>46312.523438</td>\n",
       "    </tr>\n",
       "    <tr>\n",
       "      <th>2643</th>\n",
       "      <td>50098.335938</td>\n",
       "      <td>47644.250000</td>\n",
       "    </tr>\n",
       "    <tr>\n",
       "      <th>2644</th>\n",
       "      <td>46737.480469</td>\n",
       "      <td>48801.726562</td>\n",
       "    </tr>\n",
       "    <tr>\n",
       "      <th>2645</th>\n",
       "      <td>46612.632813</td>\n",
       "      <td>46707.050781</td>\n",
       "    </tr>\n",
       "    <tr>\n",
       "      <th>2646</th>\n",
       "      <td>46976.203125</td>\n",
       "      <td>45733.136719</td>\n",
       "    </tr>\n",
       "  </tbody>\n",
       "</table>\n",
       "<p>528 rows × 2 columns</p>\n",
       "</div>"
      ],
      "text/plain": [
       "             Close   Predicitons\n",
       "2116   9087.303711   9356.073242\n",
       "2117   9132.488281   9308.922852\n",
       "2118   9073.942383   9312.333008\n",
       "2119   9375.474609   9285.277344\n",
       "2120   9252.277344   9445.420898\n",
       "...            ...           ...\n",
       "2642  49362.507813  46312.523438\n",
       "2643  50098.335938  47644.250000\n",
       "2644  46737.480469  48801.726562\n",
       "2645  46612.632813  46707.050781\n",
       "2646  46976.203125  45733.136719\n",
       "\n",
       "[528 rows x 2 columns]"
      ]
     },
     "execution_count": 25,
     "metadata": {},
     "output_type": "execute_result"
    }
   ],
   "source": [
    "valid"
   ]
  },
  {
   "cell_type": "code",
   "execution_count": null,
   "metadata": {},
   "outputs": [],
   "source": []
  },
  {
   "cell_type": "code",
   "execution_count": null,
   "metadata": {},
   "outputs": [],
   "source": []
  }
 ],
 "metadata": {
  "kernelspec": {
   "display_name": "Python 3",
   "language": "python",
   "name": "python3"
  },
  "language_info": {
   "codemirror_mode": {
    "name": "ipython",
    "version": 3
   },
   "file_extension": ".py",
   "mimetype": "text/x-python",
   "name": "python",
   "nbconvert_exporter": "python",
   "pygments_lexer": "ipython3",
   "version": "3.8.5"
  },
  "toc": {
   "base_numbering": 1,
   "nav_menu": {
    "height": "80px",
    "width": "160px"
   },
   "number_sections": true,
   "sideBar": true,
   "skip_h1_title": false,
   "title_cell": "Table of Contents",
   "title_sidebar": "Contents",
   "toc_cell": false,
   "toc_position": {},
   "toc_section_display": true,
   "toc_window_display": false
  },
  "varInspector": {
   "cols": {
    "lenName": 16,
    "lenType": 16,
    "lenVar": 40
   },
   "kernels_config": {
    "python": {
     "delete_cmd_postfix": "",
     "delete_cmd_prefix": "del ",
     "library": "var_list.py",
     "varRefreshCmd": "print(var_dic_list())"
    },
    "r": {
     "delete_cmd_postfix": ") ",
     "delete_cmd_prefix": "rm(",
     "library": "var_list.r",
     "varRefreshCmd": "cat(var_dic_list()) "
    }
   },
   "types_to_exclude": [
    "module",
    "function",
    "builtin_function_or_method",
    "instance",
    "_Feature"
   ],
   "window_display": false
  }
 },
 "nbformat": 4,
 "nbformat_minor": 4
}
